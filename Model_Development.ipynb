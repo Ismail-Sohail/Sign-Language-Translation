{
 "cells": [
  {
   "cell_type": "code",
   "execution_count": 1,
   "id": "84ed8fd5",
   "metadata": {},
   "outputs": [
    {
     "name": "stderr",
     "output_type": "stream",
     "text": [
      "2023-12-16 13:44:22.431222: I tensorflow/core/platform/cpu_feature_guard.cc:182] This TensorFlow binary is optimized to use available CPU instructions in performance-critical operations.\n",
      "To enable the following instructions: AVX2 FMA, in other operations, rebuild TensorFlow with the appropriate compiler flags.\n"
     ]
    }
   ],
   "source": [
    "import os\n",
    "import tensorflow as tf\n",
    "from tensorflow.keras import layers, models\n",
    "from tensorflow.keras.preprocessing.image import ImageDataGenerator\n",
    "from keras.models import Sequential\n",
    "from keras.layers import Convolution2D\n",
    "from keras.layers import MaxPooling2D\n",
    "from keras.layers import Flatten\n",
    "from keras.layers import Dense , Dropout\n",
    "import json\n",
    "import cv2\n",
    "import numpy as np\n",
    "from tensorflow.keras.models import load_model\n",
    "from keras.models import load_model\n",
    "from keras.preprocessing import image\n",
    "import matplotlib.pyplot as plt\n",
    "from IPython.display import Image, display\n",
    "import json\n"
   ]
  },
  {
   "cell_type": "code",
   "execution_count": 2,
   "id": "5bca1741",
   "metadata": {},
   "outputs": [
    {
     "name": "stdout",
     "output_type": "stream",
     "text": [
      "Found 286 images belonging to 27 classes.\n",
      "Found 117 images belonging to 27 classes.\n",
      "Model: \"sequential\"\n",
      "_________________________________________________________________\n",
      " Layer (type)                Output Shape              Param #   \n",
      "=================================================================\n",
      " conv2d (Conv2D)             (None, 126, 126, 32)      320       \n",
      "                                                                 \n",
      " max_pooling2d (MaxPooling2D  (None, 63, 63, 32)       0         \n",
      " )                                                               \n",
      "                                                                 \n",
      " conv2d_1 (Conv2D)           (None, 61, 61, 32)        9248      \n",
      "                                                                 \n",
      " max_pooling2d_1 (MaxPooling  (None, 30, 30, 32)       0         \n",
      " 2D)                                                             \n",
      "                                                                 \n",
      " flatten (Flatten)           (None, 28800)             0         \n",
      "                                                                 \n",
      " dense (Dense)               (None, 128)               3686528   \n",
      "                                                                 \n",
      " dropout (Dropout)           (None, 128)               0         \n",
      "                                                                 \n",
      " dense_1 (Dense)             (None, 96)                12384     \n",
      "                                                                 \n",
      " dropout_1 (Dropout)         (None, 96)                0         \n",
      "                                                                 \n",
      " dense_2 (Dense)             (None, 64)                6208      \n",
      "                                                                 \n",
      " dense_3 (Dense)             (None, 27)                1755      \n",
      "                                                                 \n",
      "=================================================================\n",
      "Total params: 3,716,443\n",
      "Trainable params: 3,716,443\n",
      "Non-trainable params: 0\n",
      "_________________________________________________________________\n"
     ]
    },
    {
     "name": "stderr",
     "output_type": "stream",
     "text": [
      "/var/folders/_f/chvc84n13j5fnb89bxmflrvc0000gp/T/ipykernel_11010/2551077538.py:59: UserWarning: `Model.fit_generator` is deprecated and will be removed in a future version. Please use `Model.fit`, which supports generators.\n",
      "  history = classifier.fit_generator(\n"
     ]
    },
    {
     "name": "stdout",
     "output_type": "stream",
     "text": [
      "Epoch 1/20\n"
     ]
    },
    {
     "name": "stderr",
     "output_type": "stream",
     "text": [
      "2023-12-16 13:44:36.240601: I tensorflow/core/common_runtime/executor.cc:1197] [/device:CPU:0] (DEBUG INFO) Executor start aborting (this does not indicate an error and you can ignore this message): INVALID_ARGUMENT: You must feed a value for placeholder tensor 'Placeholder/_0' with dtype int32\n",
      "\t [[{{node Placeholder/_0}}]]\n"
     ]
    },
    {
     "name": "stdout",
     "output_type": "stream",
     "text": [
      "29/29 [==============================] - ETA: 0s - loss: 3.3713 - accuracy: 0.0210"
     ]
    },
    {
     "name": "stderr",
     "output_type": "stream",
     "text": [
      "2023-12-16 13:44:44.277075: I tensorflow/core/common_runtime/executor.cc:1197] [/device:CPU:0] (DEBUG INFO) Executor start aborting (this does not indicate an error and you can ignore this message): INVALID_ARGUMENT: You must feed a value for placeholder tensor 'Placeholder/_0' with dtype int32\n",
      "\t [[{{node Placeholder/_0}}]]\n"
     ]
    },
    {
     "name": "stdout",
     "output_type": "stream",
     "text": [
      "29/29 [==============================] - 9s 219ms/step - loss: 3.3713 - accuracy: 0.0210 - val_loss: 3.2898 - val_accuracy: 0.0342\n",
      "Epoch 2/20\n",
      "29/29 [==============================] - 6s 206ms/step - loss: 3.2972 - accuracy: 0.0420 - val_loss: 3.2904 - val_accuracy: 0.0855\n",
      "Epoch 3/20\n",
      "29/29 [==============================] - 6s 215ms/step - loss: 3.2793 - accuracy: 0.0490 - val_loss: 3.3477 - val_accuracy: 0.0342\n",
      "Epoch 4/20\n",
      "29/29 [==============================] - 6s 215ms/step - loss: 3.2972 - accuracy: 0.0664 - val_loss: 3.1944 - val_accuracy: 0.0769\n",
      "Epoch 5/20\n",
      "29/29 [==============================] - 6s 219ms/step - loss: 3.1154 - accuracy: 0.1329 - val_loss: 2.5424 - val_accuracy: 0.3162\n",
      "Epoch 6/20\n",
      "29/29 [==============================] - 6s 221ms/step - loss: 2.4356 - accuracy: 0.2902 - val_loss: 1.6156 - val_accuracy: 0.5128\n",
      "Epoch 7/20\n",
      "29/29 [==============================] - 7s 222ms/step - loss: 1.6531 - accuracy: 0.4930 - val_loss: 1.0910 - val_accuracy: 0.6496\n",
      "Epoch 8/20\n",
      "29/29 [==============================] - 6s 210ms/step - loss: 1.2311 - accuracy: 0.6364 - val_loss: 0.6503 - val_accuracy: 0.8034\n",
      "Epoch 9/20\n",
      "29/29 [==============================] - 6s 211ms/step - loss: 0.8596 - accuracy: 0.7378 - val_loss: 0.7096 - val_accuracy: 0.8034\n",
      "Epoch 10/20\n",
      "29/29 [==============================] - 7s 225ms/step - loss: 0.8749 - accuracy: 0.7308 - val_loss: 0.4930 - val_accuracy: 0.8376\n",
      "Epoch 11/20\n",
      "29/29 [==============================] - 6s 222ms/step - loss: 0.7810 - accuracy: 0.7517 - val_loss: 0.3054 - val_accuracy: 0.9145\n",
      "Epoch 12/20\n",
      "29/29 [==============================] - 6s 216ms/step - loss: 0.4650 - accuracy: 0.8671 - val_loss: 0.1774 - val_accuracy: 0.9487\n",
      "Epoch 13/20\n",
      "29/29 [==============================] - 6s 220ms/step - loss: 0.3840 - accuracy: 0.8706 - val_loss: 0.4525 - val_accuracy: 0.8376\n",
      "Epoch 14/20\n",
      "29/29 [==============================] - 7s 232ms/step - loss: 0.3493 - accuracy: 0.8986 - val_loss: 0.3590 - val_accuracy: 0.8889\n",
      "Epoch 15/20\n",
      "29/29 [==============================] - 7s 249ms/step - loss: 0.3275 - accuracy: 0.8986 - val_loss: 0.1539 - val_accuracy: 0.9744\n",
      "Epoch 16/20\n",
      "29/29 [==============================] - 6s 212ms/step - loss: 0.2937 - accuracy: 0.9161 - val_loss: 0.1947 - val_accuracy: 0.9231\n",
      "Epoch 17/20\n",
      "29/29 [==============================] - 7s 253ms/step - loss: 0.3021 - accuracy: 0.9091 - val_loss: 0.2682 - val_accuracy: 0.9145\n",
      "Epoch 18/20\n",
      "29/29 [==============================] - 8s 267ms/step - loss: 0.1434 - accuracy: 0.9545 - val_loss: 0.5540 - val_accuracy: 0.8889\n",
      "Epoch 19/20\n",
      "29/29 [==============================] - 7s 242ms/step - loss: 0.1419 - accuracy: 0.9650 - val_loss: 0.4881 - val_accuracy: 0.9316\n",
      "Epoch 20/20\n",
      "29/29 [==============================] - 7s 225ms/step - loss: 0.2148 - accuracy: 0.9406 - val_loss: 0.2087 - val_accuracy: 0.9231\n"
     ]
    }
   ],
   "source": [
    "# Define the root directory where your data is stored\n",
    "root_dir = '/Users/ismail/Desktop/LAMBTON/Semester3/project/Final/output_1/'\n",
    "\n",
    "sz = 128\n",
    "from keras.preprocessing.image import ImageDataGenerator\n",
    "\n",
    "train_datagen = ImageDataGenerator(\n",
    "        rescale=1./255,\n",
    "        shear_range=0.2,\n",
    "        zoom_range=0.2,\n",
    "        horizontal_flip=True)\n",
    "\n",
    "test_datagen = ImageDataGenerator(rescale=1./255)\n",
    "\n",
    "training_set = train_datagen.flow_from_directory(os.path.join(root_dir, 'train'),\n",
    "                                                 target_size=(sz, sz),\n",
    "                                                 batch_size=10,\n",
    "                                                 color_mode='grayscale',\n",
    "                                                 class_mode='categorical')\n",
    "\n",
    "test_set = test_datagen.flow_from_directory(os.path.join(root_dir, 'val'),\n",
    "                                            target_size=(sz , sz),\n",
    "                                            batch_size=10,\n",
    "                                            color_mode='grayscale',\n",
    "                                            class_mode='categorical') \n",
    "\n",
    "\n",
    "# Step 1 - Building the CNN\n",
    "\n",
    "# Initializing the CNN\n",
    "classifier = Sequential()\n",
    "\n",
    "# First convolution layer and pooling\n",
    "classifier.add(Convolution2D(32, (3, 3), input_shape=(sz, sz, 1), activation='relu'))\n",
    "classifier.add(MaxPooling2D(pool_size=(2, 2)))\n",
    "# Second convolution layer and pooling\n",
    "classifier.add(Convolution2D(32, (3, 3), activation='relu'))\n",
    "# input_shape is going to be the pooled feature maps from the previous convolution layer\n",
    "classifier.add(MaxPooling2D(pool_size=(2, 2)))\n",
    "\n",
    "# Flattening the layers\n",
    "classifier.add(Flatten())\n",
    "\n",
    "# Adding a fully connected layer\n",
    "classifier.add(Dense(units=128, activation='relu'))\n",
    "classifier.add(Dropout(0.2))\n",
    "classifier.add(Dense(units=96, activation='relu'))\n",
    "classifier.add(Dropout(0.2))\n",
    "classifier.add(Dense(units=64, activation='relu'))\n",
    "classifier.add(Dense(len(training_set.class_indices), activation='softmax')) # softmax for more than 2\n",
    "\n",
    "# Compiling the CNN\n",
    "classifier.compile(optimizer='adam', loss='categorical_crossentropy', metrics=['accuracy']) # categorical_crossentropy for more than 2\n",
    "\n",
    "\n",
    "# Step 2 - Preparing the train/test data and training the model\n",
    "classifier.summary()\n",
    "\n",
    "history = classifier.fit_generator(\n",
    "        training_set,\n",
    "        # No of images in training set\n",
    "        epochs=20,\n",
    "        validation_data=test_set,\n",
    "        steps_per_epoch=len(training_set),  # Number of batches per epoch\n",
    "        validation_steps=len(test_set))# No of images in test set\n"
   ]
  },
  {
   "cell_type": "code",
   "execution_count": null,
   "id": "1d9d64b2",
   "metadata": {},
   "outputs": [],
   "source": [
    "# Get the class indices from the training_set\n",
    "class_indices = training_set.class_indices\n",
    "\n",
    "# Save the class indices and class labels to a JSON file\n",
    "with open('/Users/ismail/Desktop/LAMBTON/Semester3/project/Final/output_1/class_indices.json', 'w') as json_file:\n",
    "    json.dump(class_indices, json_file)\n",
    "\n",
    "print(\"Class indices saved to 'class_indices.json'\")\n",
    "\n",
    "classifier.save('/Users/ismail/Desktop/LAMBTON/Semester3/project/Final/output_1/latest.h5')\n"
   ]
  },
  {
   "cell_type": "code",
   "execution_count": 3,
   "id": "5410bd46",
   "metadata": {},
   "outputs": [
    {
     "data": {
      "image/png": "[encoded data removed]",
      "text/plain": [
       "<Figure size 640x480 with 1 Axes>"
      ]
     },
     "metadata": {},
     "output_type": "display_data"
    }
   ],
   "source": [
    "# Plotting the Training Accuracy and Validation Accuracy of a Model.\n",
    "training_accuracy = history.history['accuracy']\n",
    "validation_accuracy = history.history['val_accuracy']\n",
    "epochs = range(1, len(training_accuracy) + 1)\n",
    "\n",
    "plt.plot(epochs, training_accuracy, label='Training Accuracy')\n",
    "plt.plot(epochs, validation_accuracy, label='Validation Accuracy')\n",
    "plt.title('Training and Validation Accuracy')\n",
    "plt.xlabel('Epochs')\n",
    "plt.ylabel('Accuracy')\n",
    "plt.legend()\n",
    "plt.show()\n"
   ]
  },
  {
   "cell_type": "code",
   "execution_count": null,
   "id": "6e18c62b",
   "metadata": {
    "scrolled": true
   },
   "outputs": [],
   "source": [
    "# Load the class indices from the JSON file\n",
    "with open('/Users/ismail/Desktop/LAMBTON/Semester3/project/Final/output_1/class_indices.json', 'r') as json_file:\n",
    "    class_indices = json.load(json_file)\n",
    "\n",
    "# Load the trained model\n",
    "model_path = '/Users/ismail/Desktop/LAMBTON/Semester3/project/Final/output_1/latest.h5'\n",
    "model = load_model(model_path)\n",
    "\n",
    "# Define the region of interest (ROI) coordinates\n",
    "roi_x, roi_y, roi_width, roi_height = 100, 100, 250, 250\n",
    "\n",
    "# Function to preprocess the input image\n",
    "def preprocess_image(img):\n",
    "    # Resize the image to match the model's expected sizing\n",
    "    img = cv2.resize(img, (128, 128))\n",
    "    \n",
    "    # Convert the image to grayscale\n",
    "    gray = cv2.cvtColor(img, cv2.COLOR_BGR2GRAY)\n",
    "    \n",
    "    # Apply Gaussian Blur\n",
    "    blur = cv2.GaussianBlur(gray, (5, 5), 2)\n",
    "    \n",
    "    # Adaptive Thresholding\n",
    "    th3 = cv2.adaptiveThreshold(blur, 255, cv2.ADAPTIVE_THRESH_GAUSSIAN_C, cv2.THRESH_BINARY_INV, 11, 2)\n",
    "    \n",
    "    # Global Thresholding using Otsu's method\n",
    "    ret, result_mask = cv2.threshold(th3, 0, 255, cv2.THRESH_BINARY_INV + cv2.THRESH_OTSU)\n",
    "    \n",
    "    # Expand dimensions to match model input dimensions\n",
    "    result_mask = np.expand_dims(result_mask, axis=-1)\n",
    "    \n",
    "    # Normalize the image\n",
    "    result_mask = result_mask / 255.0\n",
    "    \n",
    "    # Reshape to match the input shape expected by the model\n",
    "    result_mask = np.reshape(result_mask, (1, 128, 128, 1))\n",
    "    \n",
    "    return result_mask\n",
    "\n",
    "# Function to predict using the model\n",
    "def predict(model, img):\n",
    "    img = preprocess_image(img)\n",
    "    prediction = model.predict(img)\n",
    "    return prediction\n",
    "\n",
    "# Open a connection to the webcam\n",
    "cap = cv2.VideoCapture(0)\n",
    "\n",
    "\n",
    "while True:\n",
    "    # Read a frame from the webcam\n",
    "    ret, frame = cap.read()\n",
    "    # Extract the region of interest (ROI)\n",
    "    roi = frame[roi_y:roi_y + roi_height, roi_x:roi_x + roi_width]\n",
    "    \n",
    "    # Perform prediction\n",
    "    result = predict(model, roi)\n",
    "    \n",
    "    # Get the predicted class index\n",
    "    \n",
    "    predicted_label = [label for label, index in class_indices.items() if index == np.argmax(result)][0]\n",
    "    \n",
    "    # Draw a rectangle around the region of interest\n",
    "    cv2.rectangle(frame, (roi_x, roi_y), (roi_x + roi_width, roi_y + roi_height), (0, 255, 0), 2)\n",
    "    \n",
    "    # Put the predicted label on the frame\n",
    "    cv2.putText(frame, f'Prediction: {predicted_label}', (10, 30), cv2.FONT_HERSHEY_SIMPLEX, 1, (0, 255, 0), 2)\n",
    "    \n",
    "    # Display the resulting frame\n",
    "    cv2.imshow('Webcam Prediction', frame)\n",
    "    \n",
    "    # Break the loop if 'q' key is pressed\n",
    "    if cv2.waitKey(1) & 0xFF == ord('q'):\n",
    "        break\n",
    "\n",
    "# Release the webcam and close the OpenCV window\n",
    "cap.release()\n",
    "cv2.destroyAllWindows()\n"
   ]
  },
  {
   "cell_type": "code",
   "execution_count": null,
   "id": "23b8103b",
   "metadata": {},
   "outputs": [],
   "source": []
  }
 ],
 "metadata": {
  "kernelspec": {
   "display_name": "Python 3 (ipykernel)",
   "language": "python",
   "name": "python3"
  },
  "language_info": {
   "codemirror_mode": {
    "name": "ipython",
    "version": 3
   },
   "file_extension": ".py",
   "mimetype": "text/x-python",
   "name": "python",
   "nbconvert_exporter": "python",
   "pygments_lexer": "ipython3",
   "version": "3.9.13"
  }
 },
 "nbformat": 4,
 "nbformat_minor": 5
}

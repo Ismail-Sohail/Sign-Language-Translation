{
 "cells": [
  {
   "cell_type": "code",
   "execution_count": 1,
   "id": "7e66fdcb",
   "metadata": {},
   "outputs": [
    {
     "name": "stderr",
     "output_type": "stream",
     "text": [
      "2023-11-04 14:38:34.116911: I tensorflow/core/platform/cpu_feature_guard.cc:182] This TensorFlow binary is optimized to use available CPU instructions in performance-critical operations.\n",
      "To enable the following instructions: AVX2 FMA, in other operations, rebuild TensorFlow with the appropriate compiler flags.\n"
     ]
    }
   ],
   "source": [
    "import os\n",
    "import xml.etree.ElementTree as ET\n",
    "import cv2\n",
    "import numpy as np\n",
    "import tensorflow as tf\n",
    "from tensorflow import keras\n",
    "from tensorflow.keras import layers\n",
    "from sklearn.model_selection import train_test_split\n",
    "\n",
    "# Define the path to the folder containing the XML annotation files and images.\n",
    "data_dir = \"/Users/ismail/Desktop/LAMBTON/Semester3/project/Final/images-2/\"\n",
    "\n",
    "# Define the classes or object labels you want to detect.\n",
    "classes = ['eat','friends','help','me','play','thankyou','what','where','who','why']\n",
    "\n",
    "# Define some constants for image preprocessing.\n",
    "IMAGE_SIZE = (128, 128)\n",
    "BATCH_SIZE = 32\n",
    "\n",
    "# Lists to store image data and corresponding labels.\n",
    "images = []\n",
    "labels = []\n",
    "\n",
    "# Parse XML annotation files and load image data.\n",
    "for xml_file in os.listdir(data_dir):\n",
    "    if xml_file.endswith(\".xml\"):\n",
    "        tree = ET.parse(os.path.join(data_dir, xml_file))\n",
    "        root = tree.getroot()\n",
    "\n",
    "        # Extract image file path from XML.\n",
    "        img_path = os.path.join(data_dir, root.find(\"path\").text)\n",
    "\n",
    "        # Load and preprocess the image.\n",
    "        img = cv2.imread(img_path)\n",
    "        img = cv2.resize(img, IMAGE_SIZE)\n",
    "        img = img / 255.0  # Normalize pixel values to [0, 1]\n",
    "\n",
    "        images.append(img)\n",
    "\n",
    "        # Extract and map class labels.\n",
    "        obj_name = root.find(\"object\").find(\"name\").text\n",
    "        label = classes.index(obj_name)\n",
    "        labels.append(label)\n"
   ]
  },
  {
   "cell_type": "code",
   "execution_count": 7,
   "id": "6e859314",
   "metadata": {},
   "outputs": [],
   "source": [
    "X_train, X_val, y_train, y_val = train_test_split(images, labels, test_size=0.2, random_state=42)\n"
   ]
  },
  {
   "cell_type": "code",
   "execution_count": 10,
   "id": "2ce3d6aa",
   "metadata": {},
   "outputs": [
    {
     "name": "stdout",
     "output_type": "stream",
     "text": [
      "Epoch 1/12\n",
      "4/4 [==============================] - 2s 316ms/step - loss: 6.0183 - accuracy: 0.1000 - val_loss: 3.0508 - val_accuracy: 0.2667\n",
      "Epoch 2/12\n",
      "4/4 [==============================] - 1s 259ms/step - loss: 2.5243 - accuracy: 0.2333 - val_loss: 2.0219 - val_accuracy: 0.3333\n",
      "Epoch 3/12\n",
      "4/4 [==============================] - 1s 258ms/step - loss: 1.8242 - accuracy: 0.4083 - val_loss: 1.6363 - val_accuracy: 0.5667\n",
      "Epoch 4/12\n",
      "4/4 [==============================] - 1s 257ms/step - loss: 1.4757 - accuracy: 0.6250 - val_loss: 1.2627 - val_accuracy: 0.5667\n",
      "Epoch 5/12\n",
      "4/4 [==============================] - 1s 262ms/step - loss: 1.1207 - accuracy: 0.6250 - val_loss: 0.9477 - val_accuracy: 0.8667\n",
      "Epoch 6/12\n",
      "4/4 [==============================] - 1s 257ms/step - loss: 0.7583 - accuracy: 0.9000 - val_loss: 0.6722 - val_accuracy: 0.8000\n",
      "Epoch 7/12\n",
      "4/4 [==============================] - 1s 258ms/step - loss: 0.5120 - accuracy: 0.9667 - val_loss: 0.4003 - val_accuracy: 0.9667\n",
      "Epoch 8/12\n",
      "4/4 [==============================] - 1s 270ms/step - loss: 0.2903 - accuracy: 0.9917 - val_loss: 0.2320 - val_accuracy: 1.0000\n",
      "Epoch 9/12\n",
      "4/4 [==============================] - 1s 266ms/step - loss: 0.1717 - accuracy: 1.0000 - val_loss: 0.1360 - val_accuracy: 1.0000\n",
      "Epoch 10/12\n",
      "4/4 [==============================] - 1s 285ms/step - loss: 0.0948 - accuracy: 1.0000 - val_loss: 0.0830 - val_accuracy: 1.0000\n",
      "Epoch 11/12\n",
      "4/4 [==============================] - 1s 282ms/step - loss: 0.0562 - accuracy: 1.0000 - val_loss: 0.0457 - val_accuracy: 1.0000\n",
      "Epoch 12/12\n",
      "4/4 [==============================] - 1s 283ms/step - loss: 0.0358 - accuracy: 1.0000 - val_loss: 0.0318 - val_accuracy: 1.0000\n"
     ]
    },
    {
     "data": {
      "text/plain": [
       "<keras.callbacks.History at 0x7fb0f3f49670>"
      ]
     },
     "execution_count": 10,
     "metadata": {},
     "output_type": "execute_result"
    }
   ],
   "source": [
    "# Split the data into training and validation sets.\n",
    "X_train, X_val, y_train, y_val = train_test_split(images, labels, test_size=0.2, random_state=42)\n",
    "\n",
    "# Create a CNN model.\n",
    "model = keras.Sequential([\n",
    "    layers.Conv2D(32, (3, 3), activation='relu', input_shape=(*IMAGE_SIZE, 3)),\n",
    "    layers.MaxPooling2D((2, 2)),\n",
    "    layers.Flatten(),\n",
    "    layers.Dense(64, activation='relu'),\n",
    "    layers.Dense(len(classes), activation='softmax')\n",
    "])\n",
    "\n",
    "# Compile the model.\n",
    "model.compile(optimizer='adam', loss='sparse_categorical_crossentropy', metrics=['accuracy'])\n",
    "\n",
    "# Train the model.\n",
    "model.fit(np.array(X_train), np.array(y_train), epochs=12, batch_size=BATCH_SIZE, validation_data=(np.array(X_val), np.array(y_val)))"
   ]
  },
  {
   "cell_type": "code",
   "execution_count": 11,
   "id": "e065d28f",
   "metadata": {},
   "outputs": [],
   "source": [
    "model.save(\"10labels.h5\")"
   ]
  },
  {
   "cell_type": "code",
   "execution_count": 20,
   "id": "7e35b12e",
   "metadata": {},
   "outputs": [
    {
     "name": "stdout",
     "output_type": "stream",
     "text": [
      "1/1 [==============================] - 0s 90ms/step\n",
      "[[7.4449502e-04 9.7998339e-01 7.1597278e-05 1.0655783e-02 8.2671181e-07\n",
      "  2.8446370e-03 2.8391147e-04 2.0148975e-03 1.0866927e-05 3.3896561e-03]]\n",
      "1\n",
      "The model predicts the image contains: friends\n"
     ]
    }
   ],
   "source": [
    "import cv2\n",
    "import numpy as np\n",
    "from tensorflow import keras\n",
    "\n",
    "# Load the trained model.\n",
    "model = keras.models.load_model(\"10labels.h5\")\n",
    "\n",
    "# Load and preprocess the test image.\n",
    "test_image_path = \"/Users/ismail/Desktop/LAMBTON/Semester3/project/Final/images-2/friends_2.jpg\"\n",
    "IMAGE_SIZE = (128, 128)\n",
    "\n",
    "img = cv2.imread(test_image_path)\n",
    "img = cv2.resize(img, IMAGE_SIZE)\n",
    "img = img / 255.0  # Normalize pixel values to [0, 1]\n",
    "\n",
    "# Reshape the image to match the model's input shape.\n",
    "input_image = np.expand_dims(img, axis=0)\n",
    "\n",
    "# Make predictions with the model.\n",
    "predictions = model.predict(input_image)\n",
    "\n",
    "print(predictions)\n",
    "# Interpret the model's predictions.\n",
    "predicted_class_index = np.argmax(predictions)\n",
    "print(predicted_class_index)\n",
    "predicted_class = classes[predicted_class_index]  # Map index to class label\n",
    "\n",
    "print(f\"The model predicts the image contains: {predicted_class}\")\n"
   ]
  },
  {
   "cell_type": "code",
   "execution_count": 17,
   "id": "f3a4d3bf",
   "metadata": {},
   "outputs": [
    {
     "data": {
      "text/plain": [
       "['eat',\n",
       " 'friends',\n",
       " 'help',\n",
       " 'me',\n",
       " 'play',\n",
       " 'thankyou',\n",
       " 'what',\n",
       " 'where',\n",
       " 'who',\n",
       " 'why']"
      ]
     },
     "execution_count": 17,
     "metadata": {},
     "output_type": "execute_result"
    }
   ],
   "source": [
    "classes"
   ]
  },
  {
   "cell_type": "code",
   "execution_count": null,
   "id": "947ad4e4",
   "metadata": {},
   "outputs": [],
   "source": []
  }
 ],
 "metadata": {
  "kernelspec": {
   "display_name": "Python 3 (ipykernel)",
   "language": "python",
   "name": "python3"
  },
  "language_info": {
   "codemirror_mode": {
    "name": "ipython",
    "version": 3
   },
   "file_extension": ".py",
   "mimetype": "text/x-python",
   "name": "python",
   "nbconvert_exporter": "python",
   "pygments_lexer": "ipython3",
   "version": "3.9.13"
  }
 },
 "nbformat": 4,
 "nbformat_minor": 5
}
